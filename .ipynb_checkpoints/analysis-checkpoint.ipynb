{
 "cells": [
  {
   "cell_type": "markdown",
   "metadata": {
    "pycharm": {
     "name": "#%% md\n"
    }
   },
   "source": [
    "# Coursera : Google Certificate Case Study\n",
    "### I choose my own case study using data found on kaggle\n"
   ]
  },
  {
   "cell_type": "markdown",
   "metadata": {
    "pycharm": {
     "name": "#%% md\n"
    }
   },
   "source": [
    "# Ask Phase\n",
    "# Problem-Statement\n",
    "- Netflix as of May 2022 lost subscribers for the first time in 10 years. It lost more than 200,000 subscribers.\n",
    "    - Why did Netflix lose subscribers?\n",
    "    - Is the content that netflix provides a reason for the loss in subscribers?\n",
    "    - Where can Netflix improve in content?\n",
    "    - Are Netflix originals valuable to subscribers? Are the shows they own generally liked?"
   ]
  },
  {
   "cell_type": "markdown",
   "metadata": {
    "pycharm": {
     "name": "#%% md\n"
    }
   },
   "source": [
    "# Key StakeHolders\n",
    "- Executives at Netflix, those in charge of content creation\n",
    "# What insights can this analysis bring?\n",
    "- Find out if netflix originals are keeping people subscribed.\n",
    "- What do people like to watch?"
   ]
  },
  {
   "cell_type": "markdown",
   "metadata": {
    "pycharm": {
     "name": "#%% md\n"
    }
   },
   "source": [
    "# Prepare Phase\n",
    "- Credits to VICTOR SOEIRO from kaggle for porviding the data set\n",
    "- Dataset contains a list of Netflix USA shows as of May 2022\n",
    "- Dataset contains IMDB ratings. This will help to find out if subscribers like the content.\n",
    "- The dataset doesn't contain which shows are netflix originals. I will scrape wikipiedia to compose a list of Netflix originals and compare it to the dataset\n",
    "- Some contents do not have ratings with IMDB, they will be excluded from the dataset."
   ]
  },
  {
   "cell_type": "code",
   "execution_count": null,
   "metadata": {
    "pycharm": {
     "name": "#%%\n"
    }
   },
   "outputs": [],
   "source": []
  },
  {
   "cell_type": "markdown",
   "metadata": {},
   "source": [
    "# Other interesting questions to answer\n",
    "Understanding what content is available in different countries\n",
    "Identifying similar content by matching text-based features\n",
    "Network analysis of Actors / Directors and find interesting insights\n",
    "Does Netflix has more focus on TV Shows than movies in recent years.\n",
    "Developing a content-based recommender system using the genres and/or descriptions.\n",
    "Identifying the main content available on the streaming.\n",
    "Network analysis on the cast of the titles.\n",
    "Exploratory data analysis to find interesting insights."
   ]
  },
  {
   "cell_type": "code",
   "execution_count": 1,
   "metadata": {
    "pycharm": {
     "name": "#%%\n"
    }
   },
   "outputs": [],
   "source": [
    "import numpy as np\n",
    "import pandas as pd\n",
    "import matplotlib.pyplot as plt\n",
    "import seaborn as sns"
   ]
  },
  {
   "cell_type": "markdown",
   "metadata": {
    "pycharm": {
     "name": "#%% md\n"
    }
   },
   "source": [
    "# Data Cleaning"
   ]
  },
  {
   "cell_type": "code",
   "execution_count": 76,
   "metadata": {
    "pycharm": {
     "name": "#%%\n"
    }
   },
   "outputs": [
    {
     "data": {
      "text/html": [
       "<div>\n",
       "<style scoped>\n",
       "    .dataframe tbody tr th:only-of-type {\n",
       "        vertical-align: middle;\n",
       "    }\n",
       "\n",
       "    .dataframe tbody tr th {\n",
       "        vertical-align: top;\n",
       "    }\n",
       "\n",
       "    .dataframe thead th {\n",
       "        text-align: right;\n",
       "    }\n",
       "</style>\n",
       "<table border=\"1\" class=\"dataframe\">\n",
       "  <thead>\n",
       "    <tr style=\"text-align: right;\">\n",
       "      <th></th>\n",
       "      <th>id</th>\n",
       "      <th>title</th>\n",
       "      <th>type</th>\n",
       "      <th>description</th>\n",
       "      <th>release_year</th>\n",
       "      <th>age_certification</th>\n",
       "      <th>runtime</th>\n",
       "      <th>genres</th>\n",
       "      <th>production_countries</th>\n",
       "      <th>seasons</th>\n",
       "      <th>imdb_id</th>\n",
       "      <th>imdb_score</th>\n",
       "      <th>imdb_votes</th>\n",
       "      <th>tmdb_popularity</th>\n",
       "      <th>tmdb_score</th>\n",
       "    </tr>\n",
       "  </thead>\n",
       "  <tbody>\n",
       "    <tr>\n",
       "      <th>0</th>\n",
       "      <td>ts300399</td>\n",
       "      <td>Five Came Back: The Reference Films</td>\n",
       "      <td>SHOW</td>\n",
       "      <td>This collection includes 12 World War II-era p...</td>\n",
       "      <td>1945</td>\n",
       "      <td>TV-MA</td>\n",
       "      <td>48</td>\n",
       "      <td>['documentation']</td>\n",
       "      <td>['US']</td>\n",
       "      <td>1.0</td>\n",
       "      <td>NaN</td>\n",
       "      <td>NaN</td>\n",
       "      <td>NaN</td>\n",
       "      <td>0.600</td>\n",
       "      <td>NaN</td>\n",
       "    </tr>\n",
       "    <tr>\n",
       "      <th>1</th>\n",
       "      <td>tm84618</td>\n",
       "      <td>Taxi Driver</td>\n",
       "      <td>MOVIE</td>\n",
       "      <td>A mentally unstable Vietnam War veteran works ...</td>\n",
       "      <td>1976</td>\n",
       "      <td>R</td>\n",
       "      <td>113</td>\n",
       "      <td>['crime', 'drama']</td>\n",
       "      <td>['US']</td>\n",
       "      <td>NaN</td>\n",
       "      <td>tt0075314</td>\n",
       "      <td>8.3</td>\n",
       "      <td>795222.0</td>\n",
       "      <td>27.612</td>\n",
       "      <td>8.2</td>\n",
       "    </tr>\n",
       "    <tr>\n",
       "      <th>2</th>\n",
       "      <td>tm127384</td>\n",
       "      <td>Monty Python and the Holy Grail</td>\n",
       "      <td>MOVIE</td>\n",
       "      <td>King Arthur, accompanied by his squire, recrui...</td>\n",
       "      <td>1975</td>\n",
       "      <td>PG</td>\n",
       "      <td>91</td>\n",
       "      <td>['comedy', 'fantasy']</td>\n",
       "      <td>['GB']</td>\n",
       "      <td>NaN</td>\n",
       "      <td>tt0071853</td>\n",
       "      <td>8.2</td>\n",
       "      <td>530877.0</td>\n",
       "      <td>18.216</td>\n",
       "      <td>7.8</td>\n",
       "    </tr>\n",
       "    <tr>\n",
       "      <th>3</th>\n",
       "      <td>tm70993</td>\n",
       "      <td>Life of Brian</td>\n",
       "      <td>MOVIE</td>\n",
       "      <td>Brian Cohen is an average young Jewish man, bu...</td>\n",
       "      <td>1979</td>\n",
       "      <td>R</td>\n",
       "      <td>94</td>\n",
       "      <td>['comedy']</td>\n",
       "      <td>['GB']</td>\n",
       "      <td>NaN</td>\n",
       "      <td>tt0079470</td>\n",
       "      <td>8.0</td>\n",
       "      <td>392419.0</td>\n",
       "      <td>17.505</td>\n",
       "      <td>7.8</td>\n",
       "    </tr>\n",
       "    <tr>\n",
       "      <th>4</th>\n",
       "      <td>tm190788</td>\n",
       "      <td>The Exorcist</td>\n",
       "      <td>MOVIE</td>\n",
       "      <td>12-year-old Regan MacNeil begins to adapt an e...</td>\n",
       "      <td>1973</td>\n",
       "      <td>R</td>\n",
       "      <td>133</td>\n",
       "      <td>['horror']</td>\n",
       "      <td>['US']</td>\n",
       "      <td>NaN</td>\n",
       "      <td>tt0070047</td>\n",
       "      <td>8.1</td>\n",
       "      <td>391942.0</td>\n",
       "      <td>95.337</td>\n",
       "      <td>7.7</td>\n",
       "    </tr>\n",
       "  </tbody>\n",
       "</table>\n",
       "</div>"
      ],
      "text/plain": [
       "         id                                title   type  \\\n",
       "0  ts300399  Five Came Back: The Reference Films   SHOW   \n",
       "1   tm84618                          Taxi Driver  MOVIE   \n",
       "2  tm127384      Monty Python and the Holy Grail  MOVIE   \n",
       "3   tm70993                        Life of Brian  MOVIE   \n",
       "4  tm190788                         The Exorcist  MOVIE   \n",
       "\n",
       "                                         description  release_year  \\\n",
       "0  This collection includes 12 World War II-era p...          1945   \n",
       "1  A mentally unstable Vietnam War veteran works ...          1976   \n",
       "2  King Arthur, accompanied by his squire, recrui...          1975   \n",
       "3  Brian Cohen is an average young Jewish man, bu...          1979   \n",
       "4  12-year-old Regan MacNeil begins to adapt an e...          1973   \n",
       "\n",
       "  age_certification  runtime                 genres production_countries  \\\n",
       "0             TV-MA       48      ['documentation']               ['US']   \n",
       "1                 R      113     ['crime', 'drama']               ['US']   \n",
       "2                PG       91  ['comedy', 'fantasy']               ['GB']   \n",
       "3                 R       94             ['comedy']               ['GB']   \n",
       "4                 R      133             ['horror']               ['US']   \n",
       "\n",
       "   seasons    imdb_id  imdb_score  imdb_votes  tmdb_popularity  tmdb_score  \n",
       "0      1.0        NaN         NaN         NaN            0.600         NaN  \n",
       "1      NaN  tt0075314         8.3    795222.0           27.612         8.2  \n",
       "2      NaN  tt0071853         8.2    530877.0           18.216         7.8  \n",
       "3      NaN  tt0079470         8.0    392419.0           17.505         7.8  \n",
       "4      NaN  tt0070047         8.1    391942.0           95.337         7.7  "
      ]
     },
     "execution_count": 76,
     "metadata": {},
     "output_type": "execute_result"
    }
   ],
   "source": [
    "data = pd.read_csv('titles.csv')\n",
    "data. head()"
   ]
  },
  {
   "cell_type": "code",
   "execution_count": 3,
   "metadata": {
    "pycharm": {
     "name": "#%%\n"
    }
   },
   "outputs": [
    {
     "data": {
      "text/plain": [
       "id                         0\n",
       "title                      1\n",
       "type                       0\n",
       "description               18\n",
       "release_year               0\n",
       "age_certification       2610\n",
       "runtime                    0\n",
       "genres                     0\n",
       "production_countries       0\n",
       "seasons                 3759\n",
       "imdb_id                  444\n",
       "imdb_score               523\n",
       "imdb_votes               539\n",
       "tmdb_popularity           94\n",
       "tmdb_score               318\n",
       "dtype: int64"
      ]
     },
     "execution_count": 3,
     "metadata": {},
     "output_type": "execute_result"
    }
   ],
   "source": [
    "data.isna().sum()"
   ]
  },
  {
   "cell_type": "code",
   "execution_count": 4,
   "metadata": {
    "pycharm": {
     "name": "#%%\n"
    }
   },
   "outputs": [
    {
     "data": {
      "text/plain": [
       "id                      5806\n",
       "title                   5751\n",
       "type                       2\n",
       "description             5785\n",
       "release_year              67\n",
       "age_certification         11\n",
       "runtime                  205\n",
       "genres                  1626\n",
       "production_countries     449\n",
       "seasons                   23\n",
       "imdb_id                 5362\n",
       "imdb_score                81\n",
       "imdb_votes              3831\n",
       "tmdb_popularity         4943\n",
       "tmdb_score                78\n",
       "dtype: int64"
      ]
     },
     "execution_count": 4,
     "metadata": {},
     "output_type": "execute_result"
    }
   ],
   "source": [
    "data.nunique()"
   ]
  },
  {
   "cell_type": "code",
   "execution_count": 5,
   "metadata": {
    "pycharm": {
     "name": "#%%\n"
    }
   },
   "outputs": [],
   "source": [
    "data['title'].dropna(inplace=True)"
   ]
  },
  {
   "cell_type": "code",
   "execution_count": 6,
   "metadata": {
    "pycharm": {
     "name": "#%%\n"
    }
   },
   "outputs": [],
   "source": [
    "data = data.drop(index=1805, axis=0)"
   ]
  },
  {
   "cell_type": "code",
   "execution_count": 7,
   "metadata": {
    "pycharm": {
     "name": "#%%\n"
    }
   },
   "outputs": [
    {
     "data": {
      "text/plain": [
       "id                         0\n",
       "title                      0\n",
       "type                       0\n",
       "description               17\n",
       "release_year               0\n",
       "age_certification       2609\n",
       "runtime                    0\n",
       "genres                     0\n",
       "production_countries       0\n",
       "seasons                 3758\n",
       "imdb_id                  444\n",
       "imdb_score               522\n",
       "imdb_votes               538\n",
       "tmdb_popularity           93\n",
       "tmdb_score               317\n",
       "dtype: int64"
      ]
     },
     "execution_count": 7,
     "metadata": {},
     "output_type": "execute_result"
    }
   ],
   "source": [
    "data.isna().sum()"
   ]
  },
  {
   "cell_type": "code",
   "execution_count": 8,
   "metadata": {
    "pycharm": {
     "name": "#%%\n"
    }
   },
   "outputs": [],
   "source": [
    "data1 = data[['title', 'type' ,'genres' ,'imdb_score' ,'release_year', 'production_countries']]"
   ]
  },
  {
   "cell_type": "code",
   "execution_count": 9,
   "metadata": {
    "pycharm": {
     "name": "#%%\n"
    }
   },
   "outputs": [
    {
     "data": {
      "text/html": [
       "<div>\n",
       "<style scoped>\n",
       "    .dataframe tbody tr th:only-of-type {\n",
       "        vertical-align: middle;\n",
       "    }\n",
       "\n",
       "    .dataframe tbody tr th {\n",
       "        vertical-align: top;\n",
       "    }\n",
       "\n",
       "    .dataframe thead th {\n",
       "        text-align: right;\n",
       "    }\n",
       "</style>\n",
       "<table border=\"1\" class=\"dataframe\">\n",
       "  <thead>\n",
       "    <tr style=\"text-align: right;\">\n",
       "      <th></th>\n",
       "      <th>title</th>\n",
       "      <th>type</th>\n",
       "      <th>genres</th>\n",
       "      <th>imdb_score</th>\n",
       "      <th>release_year</th>\n",
       "      <th>production_countries</th>\n",
       "    </tr>\n",
       "  </thead>\n",
       "  <tbody>\n",
       "    <tr>\n",
       "      <th>0</th>\n",
       "      <td>Five Came Back: The Reference Films</td>\n",
       "      <td>SHOW</td>\n",
       "      <td>['documentation']</td>\n",
       "      <td>NaN</td>\n",
       "      <td>1945</td>\n",
       "      <td>['US']</td>\n",
       "    </tr>\n",
       "    <tr>\n",
       "      <th>1</th>\n",
       "      <td>Taxi Driver</td>\n",
       "      <td>MOVIE</td>\n",
       "      <td>['crime', 'drama']</td>\n",
       "      <td>8.3</td>\n",
       "      <td>1976</td>\n",
       "      <td>['US']</td>\n",
       "    </tr>\n",
       "    <tr>\n",
       "      <th>2</th>\n",
       "      <td>Monty Python and the Holy Grail</td>\n",
       "      <td>MOVIE</td>\n",
       "      <td>['comedy', 'fantasy']</td>\n",
       "      <td>8.2</td>\n",
       "      <td>1975</td>\n",
       "      <td>['GB']</td>\n",
       "    </tr>\n",
       "    <tr>\n",
       "      <th>3</th>\n",
       "      <td>Life of Brian</td>\n",
       "      <td>MOVIE</td>\n",
       "      <td>['comedy']</td>\n",
       "      <td>8.0</td>\n",
       "      <td>1979</td>\n",
       "      <td>['GB']</td>\n",
       "    </tr>\n",
       "    <tr>\n",
       "      <th>4</th>\n",
       "      <td>The Exorcist</td>\n",
       "      <td>MOVIE</td>\n",
       "      <td>['horror']</td>\n",
       "      <td>8.1</td>\n",
       "      <td>1973</td>\n",
       "      <td>['US']</td>\n",
       "    </tr>\n",
       "  </tbody>\n",
       "</table>\n",
       "</div>"
      ],
      "text/plain": [
       "                                 title   type                 genres  \\\n",
       "0  Five Came Back: The Reference Films   SHOW      ['documentation']   \n",
       "1                          Taxi Driver  MOVIE     ['crime', 'drama']   \n",
       "2      Monty Python and the Holy Grail  MOVIE  ['comedy', 'fantasy']   \n",
       "3                        Life of Brian  MOVIE             ['comedy']   \n",
       "4                         The Exorcist  MOVIE             ['horror']   \n",
       "\n",
       "   imdb_score  release_year production_countries  \n",
       "0         NaN          1945               ['US']  \n",
       "1         8.3          1976               ['US']  \n",
       "2         8.2          1975               ['GB']  \n",
       "3         8.0          1979               ['GB']  \n",
       "4         8.1          1973               ['US']  "
      ]
     },
     "execution_count": 9,
     "metadata": {},
     "output_type": "execute_result"
    }
   ],
   "source": [
    "data1.head()"
   ]
  },
  {
   "cell_type": "code",
   "execution_count": 10,
   "metadata": {
    "pycharm": {
     "name": "#%%\n"
    }
   },
   "outputs": [
    {
     "data": {
      "text/html": [
       "<div>\n",
       "<style scoped>\n",
       "    .dataframe tbody tr th:only-of-type {\n",
       "        vertical-align: middle;\n",
       "    }\n",
       "\n",
       "    .dataframe tbody tr th {\n",
       "        vertical-align: top;\n",
       "    }\n",
       "\n",
       "    .dataframe thead th {\n",
       "        text-align: right;\n",
       "    }\n",
       "</style>\n",
       "<table border=\"1\" class=\"dataframe\">\n",
       "  <thead>\n",
       "    <tr style=\"text-align: right;\">\n",
       "      <th></th>\n",
       "      <th>title</th>\n",
       "      <th>type</th>\n",
       "      <th>genres</th>\n",
       "      <th>imdb_score</th>\n",
       "      <th>release_year</th>\n",
       "      <th>production_countries</th>\n",
       "    </tr>\n",
       "  </thead>\n",
       "  <tbody>\n",
       "    <tr>\n",
       "      <th>0</th>\n",
       "      <td>Five Came Back: The Reference Films</td>\n",
       "      <td>SHOW</td>\n",
       "      <td>['documentation']</td>\n",
       "      <td>NaN</td>\n",
       "      <td>1945</td>\n",
       "      <td>['US']</td>\n",
       "    </tr>\n",
       "    <tr>\n",
       "      <th>32</th>\n",
       "      <td>Lock Your Girls In</td>\n",
       "      <td>MOVIE</td>\n",
       "      <td>['comedy']</td>\n",
       "      <td>NaN</td>\n",
       "      <td>1980</td>\n",
       "      <td>['EG']</td>\n",
       "    </tr>\n",
       "    <tr>\n",
       "      <th>33</th>\n",
       "      <td>The Witness Who Didn't See Anything</td>\n",
       "      <td>MOVIE</td>\n",
       "      <td>['comedy']</td>\n",
       "      <td>NaN</td>\n",
       "      <td>1976</td>\n",
       "      <td>['EG']</td>\n",
       "    </tr>\n",
       "    <tr>\n",
       "      <th>34</th>\n",
       "      <td>The School of Mischief</td>\n",
       "      <td>MOVIE</td>\n",
       "      <td>['comedy']</td>\n",
       "      <td>NaN</td>\n",
       "      <td>1973</td>\n",
       "      <td>['EG']</td>\n",
       "    </tr>\n",
       "    <tr>\n",
       "      <th>91</th>\n",
       "      <td>The Married Couples</td>\n",
       "      <td>MOVIE</td>\n",
       "      <td>['drama']</td>\n",
       "      <td>NaN</td>\n",
       "      <td>1981</td>\n",
       "      <td>['EG']</td>\n",
       "    </tr>\n",
       "  </tbody>\n",
       "</table>\n",
       "</div>"
      ],
      "text/plain": [
       "                                  title   type             genres  imdb_score  \\\n",
       "0   Five Came Back: The Reference Films   SHOW  ['documentation']         NaN   \n",
       "32                   Lock Your Girls In  MOVIE         ['comedy']         NaN   \n",
       "33  The Witness Who Didn't See Anything  MOVIE         ['comedy']         NaN   \n",
       "34               The School of Mischief  MOVIE         ['comedy']         NaN   \n",
       "91                  The Married Couples  MOVIE          ['drama']         NaN   \n",
       "\n",
       "    release_year production_countries  \n",
       "0           1945               ['US']  \n",
       "32          1980               ['EG']  \n",
       "33          1976               ['EG']  \n",
       "34          1973               ['EG']  \n",
       "91          1981               ['EG']  "
      ]
     },
     "execution_count": 10,
     "metadata": {},
     "output_type": "execute_result"
    }
   ],
   "source": [
    "data1[data1['imdb_score'].isna()].head()"
   ]
  },
  {
   "cell_type": "code",
   "execution_count": 11,
   "metadata": {
    "pycharm": {
     "name": "#%%\n"
    }
   },
   "outputs": [
    {
     "name": "stderr",
     "output_type": "stream",
     "text": [
      "C:\\Users\\shane\\anaconda3\\envs\\myenv\\lib\\site-packages\\pandas\\core\\generic.py:6392: SettingWithCopyWarning: \n",
      "A value is trying to be set on a copy of a slice from a DataFrame\n",
      "\n",
      "See the caveats in the documentation: https://pandas.pydata.org/pandas-docs/stable/user_guide/indexing.html#returning-a-view-versus-a-copy\n",
      "  return self._update_inplace(result)\n"
     ]
    }
   ],
   "source": [
    "data1['imdb_score'].fillna('unknown', inplace=True)"
   ]
  },
  {
   "cell_type": "code",
   "execution_count": 12,
   "metadata": {
    "pycharm": {
     "name": "#%%\n"
    }
   },
   "outputs": [
    {
     "name": "stderr",
     "output_type": "stream",
     "text": [
      "C:\\Users\\shane\\anaconda3\\envs\\myenv\\lib\\site-packages\\pandas\\core\\series.py:5258: SettingWithCopyWarning: \n",
      "A value is trying to be set on a copy of a slice from a DataFrame\n",
      "\n",
      "See the caveats in the documentation: https://pandas.pydata.org/pandas-docs/stable/user_guide/indexing.html#returning-a-view-versus-a-copy\n",
      "  self._update_inplace(result)\n"
     ]
    }
   ],
   "source": [
    "data1.reset_index(inplace=True)\n",
    "data1['title'].dropna(inplace=True)"
   ]
  },
  {
   "cell_type": "code",
   "execution_count": null,
   "metadata": {
    "pycharm": {
     "is_executing": true,
     "name": "#%%\n"
    }
   },
   "outputs": [],
   "source": [
    "data2 = pd.read_html('https://en.wikipedia.org/wiki/List_of_Netflix_original_programming')"
   ]
  },
  {
   "cell_type": "code",
   "execution_count": null,
   "metadata": {
    "pycharm": {
     "is_executing": true,
     "name": "#%%\n"
    }
   },
   "outputs": [],
   "source": [
    "x =data2[6].iloc[:,[0]]\n",
    "len(x)"
   ]
  },
  {
   "cell_type": "code",
   "execution_count": null,
   "metadata": {
    "pycharm": {
     "is_executing": true,
     "name": "#%%\n"
    }
   },
   "outputs": [],
   "source": [
    "originals_tv = []\n",
    "for i in range(30):\n",
    "    x = data2[i].iloc[:,[0]]\n",
    "    for j in range(len(x)):\n",
    "        x = data2[i].iloc[j,[0]]\n",
    "        originals_tv.append(x)\n"
   ]
  },
  {
   "cell_type": "code",
   "execution_count": null,
   "metadata": {
    "pycharm": {
     "is_executing": true,
     "name": "#%%\n"
    }
   },
   "outputs": [],
   "source": [
    "originals_tv = pd.DataFrame(originals_tv)\n",
    "originals_tv.head()"
   ]
  },
  {
   "cell_type": "code",
   "execution_count": null,
   "metadata": {
    "pycharm": {
     "is_executing": true,
     "name": "#%%\n"
    }
   },
   "outputs": [],
   "source": [
    "originals_tv['Title'].dropna(inplace=True)"
   ]
  },
  {
   "cell_type": "code",
   "execution_count": null,
   "metadata": {
    "pycharm": {
     "is_executing": true,
     "name": "#%%\n"
    }
   },
   "outputs": [],
   "source": [
    "originals_tv.nunique()"
   ]
  },
  {
   "cell_type": "code",
   "execution_count": null,
   "metadata": {
    "pycharm": {
     "is_executing": true,
     "name": "#%%\n"
    }
   },
   "outputs": [],
   "source": [
    "originals_tv.reset_index(inplace=True)"
   ]
  },
  {
   "cell_type": "code",
   "execution_count": null,
   "metadata": {
    "pycharm": {
     "is_executing": true,
     "name": "#%%\n"
    }
   },
   "outputs": [],
   "source": [
    "originals_tv.rename(columns={'Title' : 'title'}, inplace=True)"
   ]
  },
  {
   "cell_type": "code",
   "execution_count": null,
   "metadata": {
    "pycharm": {
     "is_executing": true,
     "name": "#%%\n"
    }
   },
   "outputs": [],
   "source": [
    "data3 = pd.read_html('https://en.wikipedia.org/wiki/List_of_Netflix_original_stand-up_comedy_specials')"
   ]
  },
  {
   "cell_type": "code",
   "execution_count": null,
   "metadata": {
    "pycharm": {
     "is_executing": true,
     "name": "#%%\n"
    }
   },
   "outputs": [],
   "source": [
    "x =data3[0].iloc[:,[0]]\n",
    "len(x)"
   ]
  },
  {
   "cell_type": "code",
   "execution_count": null,
   "metadata": {
    "pycharm": {
     "is_executing": true,
     "name": "#%%\n"
    }
   },
   "outputs": [],
   "source": [
    "specials = []\n",
    "for i in range(len(x)):\n",
    "    s  = data3[0].iloc[i,[0]]\n",
    "    specials.append(s)\n",
    "specials =pd.DataFrame(specials)"
   ]
  },
  {
   "cell_type": "code",
   "execution_count": null,
   "metadata": {
    "pycharm": {
     "is_executing": true,
     "name": "#%%\n"
    }
   },
   "outputs": [],
   "source": [
    "specials.rename(columns={'Title':'title'}, inplace=True )"
   ]
  },
  {
   "cell_type": "code",
   "execution_count": null,
   "metadata": {
    "pycharm": {
     "is_executing": true,
     "name": "#%%\n"
    }
   },
   "outputs": [],
   "source": [
    "originals = pd.merge(left=originals_tv, right=specials, how='outer', on='title')\n",
    "originals.drop_duplicates(inplace=True)\n",
    "originals['title'].dropna(inplace=True)"
   ]
  },
  {
   "cell_type": "code",
   "execution_count": null,
   "metadata": {
    "pycharm": {
     "is_executing": true,
     "name": "#%%\n"
    }
   },
   "outputs": [],
   "source": [
    "len(originals)"
   ]
  },
  {
   "cell_type": "markdown",
   "metadata": {},
   "source": []
  },
  {
   "cell_type": "code",
   "execution_count": null,
   "metadata": {
    "pycharm": {
     "is_executing": true,
     "name": "#%%\n"
    }
   },
   "outputs": [],
   "source": [
    "data5 = pd.read_html('https://en.wikipedia.org/wiki/List_of_Netflix_original_films_(2015%E2%80%932017)')"
   ]
  },
  {
   "cell_type": "code",
   "execution_count": null,
   "metadata": {
    "pycharm": {
     "is_executing": true,
     "name": "#%%\n"
    }
   },
   "outputs": [],
   "source": [
    "data5[2].loc[2]"
   ]
  },
  {
   "cell_type": "code",
   "execution_count": null,
   "metadata": {
    "pycharm": {
     "is_executing": true,
     "name": "#%%\n"
    }
   },
   "outputs": [],
   "source": [
    "original_movies = []\n",
    "for i in range(2):\n",
    "    x =data5[i].loc[:]\n",
    "    for j in range(len(x)):\n",
    "        y = data5[i].loc[j]\n",
    "        original_movies.append(y)\n"
   ]
  },
  {
   "cell_type": "code",
   "execution_count": null,
   "metadata": {
    "pycharm": {
     "is_executing": true,
     "name": "#%%\n"
    }
   },
   "outputs": [],
   "source": [
    "len(original_movies)"
   ]
  },
  {
   "cell_type": "code",
   "execution_count": null,
   "metadata": {
    "pycharm": {
     "is_executing": true,
     "name": "#%%\n"
    }
   },
   "outputs": [],
   "source": [
    "data6 =pd.read_html('https://en.wikipedia.org/wiki/List_of_Netflix_original_films_(2018)')"
   ]
  },
  {
   "cell_type": "code",
   "execution_count": null,
   "metadata": {
    "pycharm": {
     "is_executing": true,
     "name": "#%%\n"
    }
   },
   "outputs": [],
   "source": [
    "original_movies\n",
    "for i in range(2):\n",
    "    x =data6[i].loc[:]\n",
    "    for j in range(len(x)):\n",
    "        y = data6[i].loc[j]\n",
    "        original_movies.append(y)"
   ]
  },
  {
   "cell_type": "code",
   "execution_count": null,
   "metadata": {
    "pycharm": {
     "is_executing": true,
     "name": "#%%\n"
    }
   },
   "outputs": [],
   "source": [
    "len(original_movies)"
   ]
  },
  {
   "cell_type": "code",
   "execution_count": null,
   "metadata": {
    "pycharm": {
     "is_executing": true,
     "name": "#%%\n"
    }
   },
   "outputs": [],
   "source": [
    "data7 = pd.read_html('https://en.wikipedia.org/wiki/List_of_Netflix_original_films_(2019)')"
   ]
  },
  {
   "cell_type": "code",
   "execution_count": null,
   "metadata": {
    "pycharm": {
     "is_executing": true,
     "name": "#%%\n"
    }
   },
   "outputs": [],
   "source": [
    "original_movies\n",
    "for i in range(2):\n",
    "    x =data7[i].loc[:]\n",
    "    for j in range(len(x)):\n",
    "        y = data7[i].loc[j]\n",
    "        original_movies.append(y)"
   ]
  },
  {
   "cell_type": "code",
   "execution_count": null,
   "metadata": {
    "pycharm": {
     "is_executing": true,
     "name": "#%%\n"
    }
   },
   "outputs": [],
   "source": [
    "len(original_movies)"
   ]
  },
  {
   "cell_type": "code",
   "execution_count": null,
   "metadata": {
    "pycharm": {
     "is_executing": true,
     "name": "#%%\n"
    }
   },
   "outputs": [],
   "source": [
    "data8 = pd.read_html('https://en.wikipedia.org/wiki/List_of_Netflix_original_films_(2020)')"
   ]
  },
  {
   "cell_type": "code",
   "execution_count": null,
   "metadata": {
    "pycharm": {
     "is_executing": true,
     "name": "#%%\n"
    }
   },
   "outputs": [],
   "source": [
    "original_movies\n",
    "for i in range(3):\n",
    "    x =data8[i].loc[:]\n",
    "    for j in range(len(x)):\n",
    "        y = data8[i].loc[j]\n",
    "        original_movies.append(y)"
   ]
  },
  {
   "cell_type": "code",
   "execution_count": null,
   "metadata": {
    "pycharm": {
     "is_executing": true,
     "name": "#%%\n"
    }
   },
   "outputs": [],
   "source": [
    "len(original_movies)"
   ]
  },
  {
   "cell_type": "code",
   "execution_count": null,
   "metadata": {
    "pycharm": {
     "is_executing": true,
     "name": "#%%\n"
    }
   },
   "outputs": [],
   "source": [
    "data9 = pd.read_html('https://en.wikipedia.org/wiki/List_of_Netflix_original_films_(2021)')"
   ]
  },
  {
   "cell_type": "code",
   "execution_count": null,
   "metadata": {
    "pycharm": {
     "is_executing": true,
     "name": "#%%\n"
    }
   },
   "outputs": [],
   "source": [
    "original_movies\n",
    "for i in range(3):\n",
    "    x =data9[i].loc[:]\n",
    "    for j in range(len(x)):\n",
    "        y = data9[i].loc[j]\n",
    "        original_movies.append(y)"
   ]
  },
  {
   "cell_type": "code",
   "execution_count": null,
   "metadata": {
    "pycharm": {
     "is_executing": true,
     "name": "#%%\n"
    }
   },
   "outputs": [],
   "source": [
    "len(original_movies)"
   ]
  },
  {
   "cell_type": "code",
   "execution_count": null,
   "metadata": {
    "pycharm": {
     "is_executing": true,
     "name": "#%%\n"
    }
   },
   "outputs": [],
   "source": [
    "data10 = pd.read_html('https://en.wikipedia.org/wiki/List_of_Netflix_original_films_(since_2022)')"
   ]
  },
  {
   "cell_type": "code",
   "execution_count": null,
   "metadata": {
    "pycharm": {
     "is_executing": true,
     "name": "#%%\n"
    }
   },
   "outputs": [],
   "source": [
    "original_movies\n",
    "for i in range(3):\n",
    "    x =data10[i].loc[:]\n",
    "    for j in range(len(x)):\n",
    "        y = data10[i].loc[j]\n",
    "        original_movies.append(y)"
   ]
  },
  {
   "cell_type": "code",
   "execution_count": null,
   "metadata": {
    "pycharm": {
     "is_executing": true,
     "name": "#%%\n"
    }
   },
   "outputs": [],
   "source": [
    "len(original_movies)"
   ]
  },
  {
   "cell_type": "code",
   "execution_count": null,
   "metadata": {
    "pycharm": {
     "is_executing": true,
     "name": "#%%\n"
    }
   },
   "outputs": [],
   "source": [
    "original_movies = pd.DataFrame(original_movies)"
   ]
  },
  {
   "cell_type": "code",
   "execution_count": null,
   "metadata": {
    "pycharm": {
     "is_executing": true,
     "name": "#%%\n"
    }
   },
   "outputs": [],
   "source": [
    "original_movies.head()"
   ]
  },
  {
   "cell_type": "code",
   "execution_count": null,
   "metadata": {
    "pycharm": {
     "is_executing": true,
     "name": "#%%\n"
    }
   },
   "outputs": [],
   "source": [
    "original_movies.rename(columns={'Title':'title'}, inplace=True)"
   ]
  },
  {
   "cell_type": "code",
   "execution_count": null,
   "metadata": {
    "pycharm": {
     "is_executing": true,
     "name": "#%%\n"
    }
   },
   "outputs": [],
   "source": [
    "original_movies = original_movies['title']\n",
    "original_movies.head()"
   ]
  },
  {
   "cell_type": "code",
   "execution_count": null,
   "metadata": {
    "pycharm": {
     "is_executing": true,
     "name": "#%%\n"
    }
   },
   "outputs": [],
   "source": [
    "originals2 = pd.merge(left=originals, right=original_movies, how='outer', on='title')\n"
   ]
  },
  {
   "cell_type": "code",
   "execution_count": null,
   "metadata": {
    "pycharm": {
     "is_executing": true,
     "name": "#%%\n"
    }
   },
   "outputs": [],
   "source": [
    "originals2.drop_duplicates(inplace=True)\n",
    "originals2.reset_index(inplace=True)"
   ]
  },
  {
   "cell_type": "code",
   "execution_count": null,
   "metadata": {
    "pycharm": {
     "is_executing": true,
     "name": "#%%\n"
    }
   },
   "outputs": [],
   "source": [
    "len(originals2)"
   ]
  },
  {
   "cell_type": "code",
   "execution_count": null,
   "metadata": {
    "pycharm": {
     "is_executing": true,
     "name": "#%%\n"
    }
   },
   "outputs": [],
   "source": [
    "data1['originals'] = data1['title'].isin(originals2['title'])\n"
   ]
  },
  {
   "cell_type": "code",
   "execution_count": null,
   "metadata": {
    "pycharm": {
     "is_executing": true,
     "name": "#%%\n"
    }
   },
   "outputs": [],
   "source": [
    "data1.loc[data1['originals'] == True].head()"
   ]
  },
  {
   "cell_type": "code",
   "execution_count": null,
   "metadata": {
    "pycharm": {
     "is_executing": true,
     "name": "#%%\n"
    }
   },
   "outputs": [],
   "source": [
    "data1['originals'].replace(True, \"Netflix Original\", inplace=True)\n",
    "data1['originals'].replace(False, \"Licensed Series\", inplace=True)"
   ]
  },
  {
   "cell_type": "code",
   "execution_count": null,
   "metadata": {
    "pycharm": {
     "is_executing": true,
     "name": "#%%\n"
    }
   },
   "outputs": [],
   "source": []
  },
  {
   "cell_type": "markdown",
   "metadata": {
    "pycharm": {
     "name": "#%% md\n"
    }
   },
   "source": [
    "# Analyze Phase"
   ]
  },
  {
   "cell_type": "markdown",
   "metadata": {
    "pycharm": {
     "name": "#%% md\n"
    }
   },
   "source": [
    "# Question: Does netflix on average produce shows that are highly rated by the audience?\n"
   ]
  },
  {
   "cell_type": "code",
   "execution_count": 78,
   "metadata": {
    "pycharm": {
     "is_executing": true,
     "name": "#%%\n"
    }
   },
   "outputs": [],
   "source": [
    "net = data1.loc[data1['imdb_score'] != 'unknown']"
   ]
  },
  {
   "cell_type": "code",
   "execution_count": 79,
   "metadata": {
    "pycharm": {
     "is_executing": true,
     "name": "#%%\n"
    }
   },
   "outputs": [
    {
     "name": "stderr",
     "output_type": "stream",
     "text": [
      "C:\\Users\\shane\\AppData\\Local\\Temp/ipykernel_23344/2337909668.py:1: SettingWithCopyWarning: \n",
      "A value is trying to be set on a copy of a slice from a DataFrame.\n",
      "Try using .loc[row_indexer,col_indexer] = value instead\n",
      "\n",
      "See the caveats in the documentation: https://pandas.pydata.org/pandas-docs/stable/user_guide/indexing.html#returning-a-view-versus-a-copy\n",
      "  net['imdb_score'] = net['imdb_score'].astype('float64')\n"
     ]
    }
   ],
   "source": [
    "net['imdb_score'] = net['imdb_score'].astype('float64')"
   ]
  },
  {
   "cell_type": "code",
   "execution_count": 80,
   "metadata": {
    "pycharm": {
     "is_executing": true,
     "name": "#%%\n"
    }
   },
   "outputs": [
    {
     "name": "stderr",
     "output_type": "stream",
     "text": [
      "C:\\Users\\shane\\AppData\\Local\\Temp/ipykernel_23344/2468756050.py:1: SettingWithCopyWarning: \n",
      "A value is trying to be set on a copy of a slice from a DataFrame.\n",
      "Try using .loc[row_indexer,col_indexer] = value instead\n",
      "\n",
      "See the caveats in the documentation: https://pandas.pydata.org/pandas-docs/stable/user_guide/indexing.html#returning-a-view-versus-a-copy\n",
      "  net['decile'] = pd.qcut(net.iloc[:,4], q = 10, labels= False)\n"
     ]
    },
    {
     "data": {
      "text/html": [
       "<div>\n",
       "<style scoped>\n",
       "    .dataframe tbody tr th:only-of-type {\n",
       "        vertical-align: middle;\n",
       "    }\n",
       "\n",
       "    .dataframe tbody tr th {\n",
       "        vertical-align: top;\n",
       "    }\n",
       "\n",
       "    .dataframe thead th {\n",
       "        text-align: right;\n",
       "    }\n",
       "</style>\n",
       "<table border=\"1\" class=\"dataframe\">\n",
       "  <thead>\n",
       "    <tr style=\"text-align: right;\">\n",
       "      <th></th>\n",
       "      <th>index</th>\n",
       "      <th>title</th>\n",
       "      <th>type</th>\n",
       "      <th>genres</th>\n",
       "      <th>imdb_score</th>\n",
       "      <th>release_year</th>\n",
       "      <th>production_countries</th>\n",
       "      <th>originals</th>\n",
       "      <th>decile</th>\n",
       "    </tr>\n",
       "  </thead>\n",
       "  <tbody>\n",
       "    <tr>\n",
       "      <th>1</th>\n",
       "      <td>1</td>\n",
       "      <td>Taxi Driver</td>\n",
       "      <td>MOVIE</td>\n",
       "      <td>['crime', 'drama']</td>\n",
       "      <td>8.3</td>\n",
       "      <td>1976</td>\n",
       "      <td>['US']</td>\n",
       "      <td>Licensed Series</td>\n",
       "      <td>9</td>\n",
       "    </tr>\n",
       "    <tr>\n",
       "      <th>2</th>\n",
       "      <td>2</td>\n",
       "      <td>Monty Python and the Holy Grail</td>\n",
       "      <td>MOVIE</td>\n",
       "      <td>['comedy', 'fantasy']</td>\n",
       "      <td>8.2</td>\n",
       "      <td>1975</td>\n",
       "      <td>['GB']</td>\n",
       "      <td>Licensed Series</td>\n",
       "      <td>9</td>\n",
       "    </tr>\n",
       "    <tr>\n",
       "      <th>3</th>\n",
       "      <td>3</td>\n",
       "      <td>Life of Brian</td>\n",
       "      <td>MOVIE</td>\n",
       "      <td>['comedy']</td>\n",
       "      <td>8.0</td>\n",
       "      <td>1979</td>\n",
       "      <td>['GB']</td>\n",
       "      <td>Licensed Series</td>\n",
       "      <td>9</td>\n",
       "    </tr>\n",
       "    <tr>\n",
       "      <th>4</th>\n",
       "      <td>4</td>\n",
       "      <td>The Exorcist</td>\n",
       "      <td>MOVIE</td>\n",
       "      <td>['horror']</td>\n",
       "      <td>8.1</td>\n",
       "      <td>1973</td>\n",
       "      <td>['US']</td>\n",
       "      <td>Licensed Series</td>\n",
       "      <td>9</td>\n",
       "    </tr>\n",
       "    <tr>\n",
       "      <th>5</th>\n",
       "      <td>5</td>\n",
       "      <td>Monty Python's Flying Circus</td>\n",
       "      <td>SHOW</td>\n",
       "      <td>['comedy', 'european']</td>\n",
       "      <td>8.8</td>\n",
       "      <td>1969</td>\n",
       "      <td>['GB']</td>\n",
       "      <td>Licensed Series</td>\n",
       "      <td>9</td>\n",
       "    </tr>\n",
       "  </tbody>\n",
       "</table>\n",
       "</div>"
      ],
      "text/plain": [
       "   index                            title   type                  genres  \\\n",
       "1      1                      Taxi Driver  MOVIE      ['crime', 'drama']   \n",
       "2      2  Monty Python and the Holy Grail  MOVIE   ['comedy', 'fantasy']   \n",
       "3      3                    Life of Brian  MOVIE              ['comedy']   \n",
       "4      4                     The Exorcist  MOVIE              ['horror']   \n",
       "5      5     Monty Python's Flying Circus   SHOW  ['comedy', 'european']   \n",
       "\n",
       "   imdb_score  release_year production_countries        originals  decile  \n",
       "1         8.3          1976               ['US']  Licensed Series       9  \n",
       "2         8.2          1975               ['GB']  Licensed Series       9  \n",
       "3         8.0          1979               ['GB']  Licensed Series       9  \n",
       "4         8.1          1973               ['US']  Licensed Series       9  \n",
       "5         8.8          1969               ['GB']  Licensed Series       9  "
      ]
     },
     "execution_count": 80,
     "metadata": {},
     "output_type": "execute_result"
    }
   ],
   "source": [
    "net['decile'] = pd.qcut(net.iloc[:,4], q = 10, labels= False)\n",
    "net.head()"
   ]
  },
  {
   "cell_type": "code",
   "execution_count": 81,
   "metadata": {
    "pycharm": {
     "is_executing": true,
     "name": "#%%\n"
    }
   },
   "outputs": [],
   "source": [
    "net1 = net.groupby('originals')['imdb_score'].describe()"
   ]
  },
  {
   "cell_type": "code",
   "execution_count": 82,
   "metadata": {
    "pycharm": {
     "is_executing": true,
     "name": "#%%\n"
    }
   },
   "outputs": [
    {
     "data": {
      "text/html": [
       "<div>\n",
       "<style scoped>\n",
       "    .dataframe tbody tr th:only-of-type {\n",
       "        vertical-align: middle;\n",
       "    }\n",
       "\n",
       "    .dataframe tbody tr th {\n",
       "        vertical-align: top;\n",
       "    }\n",
       "\n",
       "    .dataframe thead th {\n",
       "        text-align: right;\n",
       "    }\n",
       "</style>\n",
       "<table border=\"1\" class=\"dataframe\">\n",
       "  <thead>\n",
       "    <tr style=\"text-align: right;\">\n",
       "      <th></th>\n",
       "      <th>originals</th>\n",
       "      <th>count</th>\n",
       "      <th>mean</th>\n",
       "      <th>std</th>\n",
       "      <th>min</th>\n",
       "      <th>25%</th>\n",
       "      <th>50%</th>\n",
       "      <th>75%</th>\n",
       "      <th>max</th>\n",
       "    </tr>\n",
       "  </thead>\n",
       "  <tbody>\n",
       "    <tr>\n",
       "      <th>0</th>\n",
       "      <td>Licensed Series</td>\n",
       "      <td>4224.0</td>\n",
       "      <td>6.588329</td>\n",
       "      <td>1.179495</td>\n",
       "      <td>1.5</td>\n",
       "      <td>5.90</td>\n",
       "      <td>6.7</td>\n",
       "      <td>7.4</td>\n",
       "      <td>9.6</td>\n",
       "    </tr>\n",
       "    <tr>\n",
       "      <th>1</th>\n",
       "      <td>Netflix Original</td>\n",
       "      <td>1059.0</td>\n",
       "      <td>6.314542</td>\n",
       "      <td>1.056234</td>\n",
       "      <td>1.6</td>\n",
       "      <td>5.65</td>\n",
       "      <td>6.4</td>\n",
       "      <td>7.1</td>\n",
       "      <td>9.1</td>\n",
       "    </tr>\n",
       "  </tbody>\n",
       "</table>\n",
       "</div>"
      ],
      "text/plain": [
       "          originals   count      mean       std  min   25%  50%  75%  max\n",
       "0   Licensed Series  4224.0  6.588329  1.179495  1.5  5.90  6.7  7.4  9.6\n",
       "1  Netflix Original  1059.0  6.314542  1.056234  1.6  5.65  6.4  7.1  9.1"
      ]
     },
     "execution_count": 82,
     "metadata": {},
     "output_type": "execute_result"
    }
   ],
   "source": [
    "net1.reset_index(inplace = True)\n",
    "net1"
   ]
  },
  {
   "cell_type": "code",
   "execution_count": 83,
   "metadata": {
    "pycharm": {
     "is_executing": true,
     "name": "#%%\n"
    }
   },
   "outputs": [
    {
     "data": {
      "image/png": "[encoded data removed]",
      "text/plain": [
       "<Figure size 432x288 with 1 Axes>"
      ]
     },
     "metadata": {
      "needs_background": "light"
     },
     "output_type": "display_data"
    }
   ],
   "source": [
    "g1 = sns.barplot(x = 'originals', y ='mean',data = net1)"
   ]
  },
  {
   "cell_type": "markdown",
   "metadata": {
    "pycharm": {
     "name": "#%% md\n"
    }
   },
   "source": [
    "# Answer :\n",
    "- Netflix on average does not produce higher rating shows than its licensed series which may cause a loss in subscribers. Netflix however has more consistency than the series it licensed with a lower standard deviation.\n",
    "- We cannot say subscribers prefer originals to licensed show but we can say that they are liked amost equally."
   ]
  },
  {
   "cell_type": "markdown",
   "metadata": {
    "pycharm": {
     "name": "#%% md\n"
    }
   },
   "source": [
    "# What genres is netflix most good at producing?"
   ]
  },
  {
   "cell_type": "code",
   "execution_count": 84,
   "metadata": {
    "pycharm": {
     "is_executing": true,
     "name": "#%%\n"
    }
   },
   "outputs": [],
   "source": [
    "### To answer this we will take the first genre list in each column which is usually representative of the whole movie."
   ]
  },
  {
   "cell_type": "code",
   "execution_count": 85,
   "metadata": {
    "pycharm": {
     "is_executing": true,
     "name": "#%%\n"
    }
   },
   "outputs": [
    {
     "data": {
      "text/html": [
       "<div>\n",
       "<style scoped>\n",
       "    .dataframe tbody tr th:only-of-type {\n",
       "        vertical-align: middle;\n",
       "    }\n",
       "\n",
       "    .dataframe tbody tr th {\n",
       "        vertical-align: top;\n",
       "    }\n",
       "\n",
       "    .dataframe thead th {\n",
       "        text-align: right;\n",
       "    }\n",
       "</style>\n",
       "<table border=\"1\" class=\"dataframe\">\n",
       "  <thead>\n",
       "    <tr style=\"text-align: right;\">\n",
       "      <th></th>\n",
       "      <th>index</th>\n",
       "      <th>title</th>\n",
       "      <th>type</th>\n",
       "      <th>genres</th>\n",
       "      <th>imdb_score</th>\n",
       "      <th>release_year</th>\n",
       "      <th>production_countries</th>\n",
       "      <th>originals</th>\n",
       "      <th>decile</th>\n",
       "    </tr>\n",
       "  </thead>\n",
       "  <tbody>\n",
       "    <tr>\n",
       "      <th>312</th>\n",
       "      <td>312</td>\n",
       "      <td>Monster</td>\n",
       "      <td>MOVIE</td>\n",
       "      <td>['crime', 'drama', 'thriller', 'european']</td>\n",
       "      <td>7.3</td>\n",
       "      <td>2003</td>\n",
       "      <td>['US']</td>\n",
       "      <td>Netflix Original</td>\n",
       "      <td>7</td>\n",
       "    </tr>\n",
       "    <tr>\n",
       "      <th>422</th>\n",
       "      <td>422</td>\n",
       "      <td>Johnny Test</td>\n",
       "      <td>SHOW</td>\n",
       "      <td>['comedy', 'drama', 'family', 'scifi', 'animat...</td>\n",
       "      <td>5.1</td>\n",
       "      <td>2005</td>\n",
       "      <td>['CA', 'US']</td>\n",
       "      <td>Netflix Original</td>\n",
       "      <td>0</td>\n",
       "    </tr>\n",
       "    <tr>\n",
       "      <th>565</th>\n",
       "      <td>565</td>\n",
       "      <td>Sergio</td>\n",
       "      <td>MOVIE</td>\n",
       "      <td>['documentation']</td>\n",
       "      <td>7.4</td>\n",
       "      <td>2009</td>\n",
       "      <td>['US']</td>\n",
       "      <td>Netflix Original</td>\n",
       "      <td>7</td>\n",
       "    </tr>\n",
       "    <tr>\n",
       "      <th>928</th>\n",
       "      <td>928</td>\n",
       "      <td>The Call</td>\n",
       "      <td>MOVIE</td>\n",
       "      <td>['crime', 'thriller', 'drama', 'horror', 'euro...</td>\n",
       "      <td>6.7</td>\n",
       "      <td>2013</td>\n",
       "      <td>['US']</td>\n",
       "      <td>Netflix Original</td>\n",
       "      <td>5</td>\n",
       "    </tr>\n",
       "    <tr>\n",
       "      <th>1090</th>\n",
       "      <td>1090</td>\n",
       "      <td>My Beautiful Broken Brain</td>\n",
       "      <td>MOVIE</td>\n",
       "      <td>['documentation']</td>\n",
       "      <td>7.1</td>\n",
       "      <td>2014</td>\n",
       "      <td>['GB']</td>\n",
       "      <td>Netflix Original</td>\n",
       "      <td>6</td>\n",
       "    </tr>\n",
       "  </tbody>\n",
       "</table>\n",
       "</div>"
      ],
      "text/plain": [
       "      index                      title   type  \\\n",
       "312     312                    Monster  MOVIE   \n",
       "422     422                Johnny Test   SHOW   \n",
       "565     565                     Sergio  MOVIE   \n",
       "928     928                   The Call  MOVIE   \n",
       "1090   1090  My Beautiful Broken Brain  MOVIE   \n",
       "\n",
       "                                                 genres  imdb_score  \\\n",
       "312          ['crime', 'drama', 'thriller', 'european']         7.3   \n",
       "422   ['comedy', 'drama', 'family', 'scifi', 'animat...         5.1   \n",
       "565                                   ['documentation']         7.4   \n",
       "928   ['crime', 'thriller', 'drama', 'horror', 'euro...         6.7   \n",
       "1090                                  ['documentation']         7.1   \n",
       "\n",
       "      release_year production_countries         originals  decile  \n",
       "312           2003               ['US']  Netflix Original       7  \n",
       "422           2005         ['CA', 'US']  Netflix Original       0  \n",
       "565           2009               ['US']  Netflix Original       7  \n",
       "928           2013               ['US']  Netflix Original       5  \n",
       "1090          2014               ['GB']  Netflix Original       6  "
      ]
     },
     "execution_count": 85,
     "metadata": {},
     "output_type": "execute_result"
    }
   ],
   "source": [
    "net2 = net.loc[net['originals'] == 'Netflix Original']\n",
    "net2.head()"
   ]
  },
  {
   "cell_type": "code",
   "execution_count": 86,
   "metadata": {
    "pycharm": {
     "is_executing": true,
     "name": "#%%\n"
    }
   },
   "outputs": [
    {
     "data": {
      "text/plain": [
       "\"['crime'\""
      ]
     },
     "execution_count": 86,
     "metadata": {},
     "output_type": "execute_result"
    }
   ],
   "source": [
    "a = net2['genres'].iloc[3].split()[0].split(',')[0]\n",
    "a"
   ]
  },
  {
   "cell_type": "code",
   "execution_count": 87,
   "metadata": {
    "pycharm": {
     "is_executing": true,
     "name": "#%%\n"
    }
   },
   "outputs": [
    {
     "data": {
      "text/plain": [
       "1059"
      ]
     },
     "execution_count": 87,
     "metadata": {},
     "output_type": "execute_result"
    }
   ],
   "source": [
    "len(net2)"
   ]
  },
  {
   "cell_type": "code",
   "execution_count": 88,
   "metadata": {
    "pycharm": {
     "is_executing": true,
     "name": "#%%\n"
    }
   },
   "outputs": [],
   "source": [
    "genres = []\n",
    "for i in range(len(net2)):\n",
    "    genres.append( net2['genres'].iloc[i].split()[0])"
   ]
  },
  {
   "cell_type": "code",
   "execution_count": 89,
   "metadata": {
    "pycharm": {
     "is_executing": true,
     "name": "#%%\n"
    }
   },
   "outputs": [
    {
     "data": {
      "text/plain": [
       "1059"
      ]
     },
     "execution_count": 89,
     "metadata": {},
     "output_type": "execute_result"
    }
   ],
   "source": [
    "len(genres)"
   ]
  },
  {
   "cell_type": "code",
   "execution_count": 90,
   "metadata": {
    "pycharm": {
     "is_executing": true,
     "name": "#%%\n"
    }
   },
   "outputs": [
    {
     "name": "stderr",
     "output_type": "stream",
     "text": [
      "C:\\Users\\shane\\AppData\\Local\\Temp/ipykernel_23344/1298380943.py:1: SettingWithCopyWarning: \n",
      "A value is trying to be set on a copy of a slice from a DataFrame.\n",
      "Try using .loc[row_indexer,col_indexer] = value instead\n",
      "\n",
      "See the caveats in the documentation: https://pandas.pydata.org/pandas-docs/stable/user_guide/indexing.html#returning-a-view-versus-a-copy\n",
      "  net2['genres'] = genres\n"
     ]
    }
   ],
   "source": [
    "net2['genres'] = genres"
   ]
  },
  {
   "cell_type": "code",
   "execution_count": 91,
   "metadata": {
    "pycharm": {
     "is_executing": true,
     "name": "#%%\n"
    }
   },
   "outputs": [
    {
     "name": "stderr",
     "output_type": "stream",
     "text": [
      "C:\\Users\\shane\\AppData\\Local\\Temp/ipykernel_23344/1860823249.py:1: SettingWithCopyWarning: \n",
      "A value is trying to be set on a copy of a slice from a DataFrame.\n",
      "Try using .loc[row_indexer,col_indexer] = value instead\n",
      "\n",
      "See the caveats in the documentation: https://pandas.pydata.org/pandas-docs/stable/user_guide/indexing.html#returning-a-view-versus-a-copy\n",
      "  net2['genres'] = net2['genres'].str.strip(\"[],'\")\n"
     ]
    }
   ],
   "source": [
    "net2['genres'] = net2['genres'].str.strip(\"[],'\")"
   ]
  },
  {
   "cell_type": "code",
   "execution_count": 92,
   "metadata": {
    "pycharm": {
     "is_executing": true,
     "name": "#%%\n"
    }
   },
   "outputs": [],
   "source": [
    "net2 =net2.groupby('genres')['imdb_score'].describe().sort_values('mean', ascending=False)"
   ]
  },
  {
   "cell_type": "code",
   "execution_count": 93,
   "metadata": {
    "pycharm": {
     "is_executing": true,
     "name": "#%%\n"
    }
   },
   "outputs": [
    {
     "data": {
      "text/html": [
       "<div>\n",
       "<style scoped>\n",
       "    .dataframe tbody tr th:only-of-type {\n",
       "        vertical-align: middle;\n",
       "    }\n",
       "\n",
       "    .dataframe tbody tr th {\n",
       "        vertical-align: top;\n",
       "    }\n",
       "\n",
       "    .dataframe thead th {\n",
       "        text-align: right;\n",
       "    }\n",
       "</style>\n",
       "<table border=\"1\" class=\"dataframe\">\n",
       "  <thead>\n",
       "    <tr style=\"text-align: right;\">\n",
       "      <th></th>\n",
       "      <th>genres</th>\n",
       "      <th>count</th>\n",
       "      <th>mean</th>\n",
       "      <th>std</th>\n",
       "      <th>min</th>\n",
       "      <th>25%</th>\n",
       "      <th>50%</th>\n",
       "      <th>75%</th>\n",
       "      <th>max</th>\n",
       "    </tr>\n",
       "  </thead>\n",
       "  <tbody>\n",
       "    <tr>\n",
       "      <th>0</th>\n",
       "      <td>history</td>\n",
       "      <td>2.0</td>\n",
       "      <td>7.500000</td>\n",
       "      <td>0.141421</td>\n",
       "      <td>7.4</td>\n",
       "      <td>7.450</td>\n",
       "      <td>7.50</td>\n",
       "      <td>7.550</td>\n",
       "      <td>7.6</td>\n",
       "    </tr>\n",
       "    <tr>\n",
       "      <th>1</th>\n",
       "      <td>sport</td>\n",
       "      <td>1.0</td>\n",
       "      <td>7.400000</td>\n",
       "      <td>NaN</td>\n",
       "      <td>7.4</td>\n",
       "      <td>7.400</td>\n",
       "      <td>7.40</td>\n",
       "      <td>7.400</td>\n",
       "      <td>7.4</td>\n",
       "    </tr>\n",
       "    <tr>\n",
       "      <th>2</th>\n",
       "      <td>documentation</td>\n",
       "      <td>133.0</td>\n",
       "      <td>6.938346</td>\n",
       "      <td>0.947383</td>\n",
       "      <td>2.6</td>\n",
       "      <td>6.500</td>\n",
       "      <td>7.10</td>\n",
       "      <td>7.400</td>\n",
       "      <td>9.0</td>\n",
       "    </tr>\n",
       "    <tr>\n",
       "      <th>3</th>\n",
       "      <td>animation</td>\n",
       "      <td>22.0</td>\n",
       "      <td>6.913636</td>\n",
       "      <td>0.827673</td>\n",
       "      <td>4.7</td>\n",
       "      <td>6.425</td>\n",
       "      <td>6.95</td>\n",
       "      <td>7.475</td>\n",
       "      <td>8.0</td>\n",
       "    </tr>\n",
       "    <tr>\n",
       "      <th>4</th>\n",
       "      <td>war</td>\n",
       "      <td>5.0</td>\n",
       "      <td>6.840000</td>\n",
       "      <td>0.817313</td>\n",
       "      <td>5.6</td>\n",
       "      <td>6.500</td>\n",
       "      <td>7.10</td>\n",
       "      <td>7.300</td>\n",
       "      <td>7.7</td>\n",
       "    </tr>\n",
       "    <tr>\n",
       "      <th>5</th>\n",
       "      <td>music</td>\n",
       "      <td>20.0</td>\n",
       "      <td>6.670000</td>\n",
       "      <td>0.700451</td>\n",
       "      <td>5.1</td>\n",
       "      <td>6.450</td>\n",
       "      <td>6.80</td>\n",
       "      <td>7.025</td>\n",
       "      <td>7.6</td>\n",
       "    </tr>\n",
       "    <tr>\n",
       "      <th>6</th>\n",
       "      <td>action</td>\n",
       "      <td>33.0</td>\n",
       "      <td>6.584848</td>\n",
       "      <td>1.010607</td>\n",
       "      <td>4.4</td>\n",
       "      <td>6.000</td>\n",
       "      <td>6.40</td>\n",
       "      <td>7.500</td>\n",
       "      <td>9.1</td>\n",
       "    </tr>\n",
       "    <tr>\n",
       "      <th>7</th>\n",
       "      <td>crime</td>\n",
       "      <td>44.0</td>\n",
       "      <td>6.513636</td>\n",
       "      <td>0.858769</td>\n",
       "      <td>3.7</td>\n",
       "      <td>6.075</td>\n",
       "      <td>6.60</td>\n",
       "      <td>7.200</td>\n",
       "      <td>8.1</td>\n",
       "    </tr>\n",
       "    <tr>\n",
       "      <th>8</th>\n",
       "      <td>drama</td>\n",
       "      <td>203.0</td>\n",
       "      <td>6.429557</td>\n",
       "      <td>0.979095</td>\n",
       "      <td>1.6</td>\n",
       "      <td>5.800</td>\n",
       "      <td>6.50</td>\n",
       "      <td>7.100</td>\n",
       "      <td>8.9</td>\n",
       "    </tr>\n",
       "    <tr>\n",
       "      <th>9</th>\n",
       "      <td>family</td>\n",
       "      <td>7.0</td>\n",
       "      <td>6.400000</td>\n",
       "      <td>0.871780</td>\n",
       "      <td>5.1</td>\n",
       "      <td>5.950</td>\n",
       "      <td>6.40</td>\n",
       "      <td>6.950</td>\n",
       "      <td>7.5</td>\n",
       "    </tr>\n",
       "    <tr>\n",
       "      <th>10</th>\n",
       "      <td>comedy</td>\n",
       "      <td>338.0</td>\n",
       "      <td>6.277515</td>\n",
       "      <td>0.952225</td>\n",
       "      <td>2.5</td>\n",
       "      <td>5.700</td>\n",
       "      <td>6.40</td>\n",
       "      <td>7.000</td>\n",
       "      <td>8.7</td>\n",
       "    </tr>\n",
       "    <tr>\n",
       "      <th>11</th>\n",
       "      <td>scifi</td>\n",
       "      <td>37.0</td>\n",
       "      <td>6.270270</td>\n",
       "      <td>1.378176</td>\n",
       "      <td>2.7</td>\n",
       "      <td>5.400</td>\n",
       "      <td>6.30</td>\n",
       "      <td>7.200</td>\n",
       "      <td>8.7</td>\n",
       "    </tr>\n",
       "    <tr>\n",
       "      <th>12</th>\n",
       "      <td>reality</td>\n",
       "      <td>35.0</td>\n",
       "      <td>5.900000</td>\n",
       "      <td>1.424161</td>\n",
       "      <td>2.3</td>\n",
       "      <td>5.350</td>\n",
       "      <td>5.80</td>\n",
       "      <td>7.000</td>\n",
       "      <td>8.5</td>\n",
       "    </tr>\n",
       "    <tr>\n",
       "      <th>13</th>\n",
       "      <td>fantasy</td>\n",
       "      <td>19.0</td>\n",
       "      <td>5.863158</td>\n",
       "      <td>0.938208</td>\n",
       "      <td>4.5</td>\n",
       "      <td>5.300</td>\n",
       "      <td>5.70</td>\n",
       "      <td>6.550</td>\n",
       "      <td>7.7</td>\n",
       "    </tr>\n",
       "    <tr>\n",
       "      <th>14</th>\n",
       "      <td>thriller</td>\n",
       "      <td>80.0</td>\n",
       "      <td>5.701250</td>\n",
       "      <td>1.035386</td>\n",
       "      <td>2.7</td>\n",
       "      <td>5.100</td>\n",
       "      <td>5.70</td>\n",
       "      <td>6.400</td>\n",
       "      <td>7.8</td>\n",
       "    </tr>\n",
       "    <tr>\n",
       "      <th>15</th>\n",
       "      <td>western</td>\n",
       "      <td>5.0</td>\n",
       "      <td>5.660000</td>\n",
       "      <td>1.327780</td>\n",
       "      <td>3.9</td>\n",
       "      <td>4.800</td>\n",
       "      <td>6.00</td>\n",
       "      <td>6.300</td>\n",
       "      <td>7.3</td>\n",
       "    </tr>\n",
       "    <tr>\n",
       "      <th>16</th>\n",
       "      <td>romance</td>\n",
       "      <td>55.0</td>\n",
       "      <td>5.547273</td>\n",
       "      <td>0.788542</td>\n",
       "      <td>2.5</td>\n",
       "      <td>5.300</td>\n",
       "      <td>5.70</td>\n",
       "      <td>6.000</td>\n",
       "      <td>7.2</td>\n",
       "    </tr>\n",
       "    <tr>\n",
       "      <th>17</th>\n",
       "      <td>horror</td>\n",
       "      <td>20.0</td>\n",
       "      <td>5.355000</td>\n",
       "      <td>1.049047</td>\n",
       "      <td>2.8</td>\n",
       "      <td>5.025</td>\n",
       "      <td>5.40</td>\n",
       "      <td>5.975</td>\n",
       "      <td>6.9</td>\n",
       "    </tr>\n",
       "  </tbody>\n",
       "</table>\n",
       "</div>"
      ],
      "text/plain": [
       "           genres  count      mean       std  min    25%   50%    75%  max\n",
       "0         history    2.0  7.500000  0.141421  7.4  7.450  7.50  7.550  7.6\n",
       "1           sport    1.0  7.400000       NaN  7.4  7.400  7.40  7.400  7.4\n",
       "2   documentation  133.0  6.938346  0.947383  2.6  6.500  7.10  7.400  9.0\n",
       "3       animation   22.0  6.913636  0.827673  4.7  6.425  6.95  7.475  8.0\n",
       "4             war    5.0  6.840000  0.817313  5.6  6.500  7.10  7.300  7.7\n",
       "5           music   20.0  6.670000  0.700451  5.1  6.450  6.80  7.025  7.6\n",
       "6          action   33.0  6.584848  1.010607  4.4  6.000  6.40  7.500  9.1\n",
       "7           crime   44.0  6.513636  0.858769  3.7  6.075  6.60  7.200  8.1\n",
       "8           drama  203.0  6.429557  0.979095  1.6  5.800  6.50  7.100  8.9\n",
       "9          family    7.0  6.400000  0.871780  5.1  5.950  6.40  6.950  7.5\n",
       "10         comedy  338.0  6.277515  0.952225  2.5  5.700  6.40  7.000  8.7\n",
       "11          scifi   37.0  6.270270  1.378176  2.7  5.400  6.30  7.200  8.7\n",
       "12        reality   35.0  5.900000  1.424161  2.3  5.350  5.80  7.000  8.5\n",
       "13        fantasy   19.0  5.863158  0.938208  4.5  5.300  5.70  6.550  7.7\n",
       "14       thriller   80.0  5.701250  1.035386  2.7  5.100  5.70  6.400  7.8\n",
       "15        western    5.0  5.660000  1.327780  3.9  4.800  6.00  6.300  7.3\n",
       "16        romance   55.0  5.547273  0.788542  2.5  5.300  5.70  6.000  7.2\n",
       "17         horror   20.0  5.355000  1.049047  2.8  5.025  5.40  5.975  6.9"
      ]
     },
     "execution_count": 93,
     "metadata": {},
     "output_type": "execute_result"
    }
   ],
   "source": [
    "net2.reset_index(inplace=True)\n",
    "net2"
   ]
  },
  {
   "cell_type": "code",
   "execution_count": 94,
   "metadata": {
    "pycharm": {
     "is_executing": true,
     "name": "#%%\n"
    }
   },
   "outputs": [
    {
     "data": {
      "text/plain": [
       "[Text(0, 0, 'history'),\n",
       " Text(1, 0, 'sport'),\n",
       " Text(2, 0, 'documentation'),\n",
       " Text(3, 0, 'animation'),\n",
       " Text(4, 0, 'war'),\n",
       " Text(5, 0, 'music'),\n",
       " Text(6, 0, 'action'),\n",
       " Text(7, 0, 'crime'),\n",
       " Text(8, 0, 'drama'),\n",
       " Text(9, 0, 'family'),\n",
       " Text(10, 0, 'comedy'),\n",
       " Text(11, 0, 'scifi'),\n",
       " Text(12, 0, 'reality'),\n",
       " Text(13, 0, 'fantasy'),\n",
       " Text(14, 0, 'thriller'),\n",
       " Text(15, 0, 'western'),\n",
       " Text(16, 0, 'romance'),\n",
       " Text(17, 0, 'horror')]"
      ]
     },
     "execution_count": 94,
     "metadata": {},
     "output_type": "execute_result"
    },
    {
     "data": {
      "image/png": "[encoded data removed]",
      "text/plain": [
       "<Figure size 720x720 with 1 Axes>"
      ]
     },
     "metadata": {
      "needs_background": "light"
     },
     "output_type": "display_data"
    }
   ],
   "source": [
    "plt.figure(figsize=(10,10))\n",
    "\n",
    "g2 = sns.barplot(x='genres', y='mean', data=net2)\n",
    "g2.set_xticklabels(g2.get_xticklabels(), rotation =90, fontsize = 15)"
   ]
  },
  {
   "cell_type": "markdown",
   "metadata": {
    "pycharm": {
     "name": "#%% md\n"
    }
   },
   "source": [
    "# Answer:\n",
    "1. History seems to be the best rated but with a sample size of 2 we can exclude it\n",
    "2. Documentation, animation, and action seem to be the best rated.\n",
    "3. They should focus less on horror and romance as they have the lowest mean and the max rating is 6.9 and 7.2 repectivley\n",
    "4. Netflix invest alot in drama and comedy with mediocre results and should try to invest in other areas\n",
    "5. This analysis is preformed with the main genre further investigation of subgenre may give a clearer picture"
   ]
  },
  {
   "cell_type": "code",
   "execution_count": 95,
   "metadata": {
    "pycharm": {
     "is_executing": true,
     "name": "#%%\n"
    }
   },
   "outputs": [
    {
     "data": {
      "text/html": [
       "<div>\n",
       "<style scoped>\n",
       "    .dataframe tbody tr th:only-of-type {\n",
       "        vertical-align: middle;\n",
       "    }\n",
       "\n",
       "    .dataframe tbody tr th {\n",
       "        vertical-align: top;\n",
       "    }\n",
       "\n",
       "    .dataframe thead th {\n",
       "        text-align: right;\n",
       "    }\n",
       "</style>\n",
       "<table border=\"1\" class=\"dataframe\">\n",
       "  <thead>\n",
       "    <tr style=\"text-align: right;\">\n",
       "      <th></th>\n",
       "      <th>count</th>\n",
       "      <th>mean</th>\n",
       "      <th>std</th>\n",
       "      <th>min</th>\n",
       "      <th>25%</th>\n",
       "      <th>50%</th>\n",
       "      <th>75%</th>\n",
       "      <th>max</th>\n",
       "    </tr>\n",
       "    <tr>\n",
       "      <th>decile</th>\n",
       "      <th></th>\n",
       "      <th></th>\n",
       "      <th></th>\n",
       "      <th></th>\n",
       "      <th></th>\n",
       "      <th></th>\n",
       "      <th></th>\n",
       "      <th></th>\n",
       "    </tr>\n",
       "  </thead>\n",
       "  <tbody>\n",
       "    <tr>\n",
       "      <th>0</th>\n",
       "      <td>585.0</td>\n",
       "      <td>4.318803</td>\n",
       "      <td>0.758370</td>\n",
       "      <td>1.5</td>\n",
       "      <td>3.9</td>\n",
       "      <td>4.5</td>\n",
       "      <td>4.9</td>\n",
       "      <td>5.1</td>\n",
       "    </tr>\n",
       "    <tr>\n",
       "      <th>1</th>\n",
       "      <td>522.0</td>\n",
       "      <td>5.418966</td>\n",
       "      <td>0.139110</td>\n",
       "      <td>5.2</td>\n",
       "      <td>5.3</td>\n",
       "      <td>5.4</td>\n",
       "      <td>5.5</td>\n",
       "      <td>5.6</td>\n",
       "    </tr>\n",
       "    <tr>\n",
       "      <th>2</th>\n",
       "      <td>623.0</td>\n",
       "      <td>5.904976</td>\n",
       "      <td>0.143870</td>\n",
       "      <td>5.7</td>\n",
       "      <td>5.8</td>\n",
       "      <td>5.9</td>\n",
       "      <td>6.0</td>\n",
       "      <td>6.1</td>\n",
       "    </tr>\n",
       "    <tr>\n",
       "      <th>3</th>\n",
       "      <td>543.0</td>\n",
       "      <td>6.297053</td>\n",
       "      <td>0.082347</td>\n",
       "      <td>6.2</td>\n",
       "      <td>6.2</td>\n",
       "      <td>6.3</td>\n",
       "      <td>6.4</td>\n",
       "      <td>6.4</td>\n",
       "    </tr>\n",
       "    <tr>\n",
       "      <th>4</th>\n",
       "      <td>394.0</td>\n",
       "      <td>6.551015</td>\n",
       "      <td>0.050053</td>\n",
       "      <td>6.5</td>\n",
       "      <td>6.5</td>\n",
       "      <td>6.6</td>\n",
       "      <td>6.6</td>\n",
       "      <td>6.6</td>\n",
       "    </tr>\n",
       "    <tr>\n",
       "      <th>5</th>\n",
       "      <td>552.0</td>\n",
       "      <td>6.798370</td>\n",
       "      <td>0.080024</td>\n",
       "      <td>6.7</td>\n",
       "      <td>6.7</td>\n",
       "      <td>6.8</td>\n",
       "      <td>6.9</td>\n",
       "      <td>6.9</td>\n",
       "    </tr>\n",
       "    <tr>\n",
       "      <th>6</th>\n",
       "      <td>545.0</td>\n",
       "      <td>7.102018</td>\n",
       "      <td>0.081662</td>\n",
       "      <td>7.0</td>\n",
       "      <td>7.0</td>\n",
       "      <td>7.1</td>\n",
       "      <td>7.2</td>\n",
       "      <td>7.2</td>\n",
       "    </tr>\n",
       "    <tr>\n",
       "      <th>7</th>\n",
       "      <td>529.0</td>\n",
       "      <td>7.394896</td>\n",
       "      <td>0.079965</td>\n",
       "      <td>7.3</td>\n",
       "      <td>7.3</td>\n",
       "      <td>7.4</td>\n",
       "      <td>7.5</td>\n",
       "      <td>7.5</td>\n",
       "    </tr>\n",
       "    <tr>\n",
       "      <th>8</th>\n",
       "      <td>485.0</td>\n",
       "      <td>7.729072</td>\n",
       "      <td>0.111155</td>\n",
       "      <td>7.6</td>\n",
       "      <td>7.6</td>\n",
       "      <td>7.7</td>\n",
       "      <td>7.8</td>\n",
       "      <td>7.9</td>\n",
       "    </tr>\n",
       "    <tr>\n",
       "      <th>9</th>\n",
       "      <td>505.0</td>\n",
       "      <td>8.312871</td>\n",
       "      <td>0.298629</td>\n",
       "      <td>8.0</td>\n",
       "      <td>8.1</td>\n",
       "      <td>8.2</td>\n",
       "      <td>8.5</td>\n",
       "      <td>9.6</td>\n",
       "    </tr>\n",
       "  </tbody>\n",
       "</table>\n",
       "</div>"
      ],
      "text/plain": [
       "        count      mean       std  min  25%  50%  75%  max\n",
       "decile                                                    \n",
       "0       585.0  4.318803  0.758370  1.5  3.9  4.5  4.9  5.1\n",
       "1       522.0  5.418966  0.139110  5.2  5.3  5.4  5.5  5.6\n",
       "2       623.0  5.904976  0.143870  5.7  5.8  5.9  6.0  6.1\n",
       "3       543.0  6.297053  0.082347  6.2  6.2  6.3  6.4  6.4\n",
       "4       394.0  6.551015  0.050053  6.5  6.5  6.6  6.6  6.6\n",
       "5       552.0  6.798370  0.080024  6.7  6.7  6.8  6.9  6.9\n",
       "6       545.0  7.102018  0.081662  7.0  7.0  7.1  7.2  7.2\n",
       "7       529.0  7.394896  0.079965  7.3  7.3  7.4  7.5  7.5\n",
       "8       485.0  7.729072  0.111155  7.6  7.6  7.7  7.8  7.9\n",
       "9       505.0  8.312871  0.298629  8.0  8.1  8.2  8.5  9.6"
      ]
     },
     "execution_count": 95,
     "metadata": {},
     "output_type": "execute_result"
    }
   ],
   "source": [
    "x = net.groupby('decile')['imdb_score'].describe()\n",
    "x"
   ]
  },
  {
   "cell_type": "code",
   "execution_count": 96,
   "metadata": {
    "pycharm": {
     "is_executing": true,
     "name": "#%%\n"
    }
   },
   "outputs": [
    {
     "data": {
      "text/plain": [
       "3764.0"
      ]
     },
     "execution_count": 96,
     "metadata": {},
     "output_type": "execute_result"
    }
   ],
   "source": [
    "x.iloc[0:7,0].sum()"
   ]
  },
  {
   "cell_type": "code",
   "execution_count": 97,
   "metadata": {
    "pycharm": {
     "is_executing": true,
     "name": "#%%\n"
    }
   },
   "outputs": [],
   "source": [
    "#Over 3700 shows are below the 70 pecentile of shows"
   ]
  },
  {
   "cell_type": "code",
   "execution_count": null,
   "metadata": {
    "pycharm": {
     "is_executing": true,
     "name": "#%%\n"
    }
   },
   "outputs": [],
   "source": []
  }
 ],
 "metadata": {
  "kernelspec": {
   "display_name": "Python 3 (ipykernel)",
   "language": "python",
   "name": "python3"
  },
  "language_info": {
   "codemirror_mode": {
    "name": "ipython",
    "version": 3
   },
   "file_extension": ".py",
   "mimetype": "text/x-python",
   "name": "python",
   "nbconvert_exporter": "python",
   "pygments_lexer": "ipython3",
   "version": "3.9.7"
  }
 },
 "nbformat": 4,
 "nbformat_minor": 1
}
